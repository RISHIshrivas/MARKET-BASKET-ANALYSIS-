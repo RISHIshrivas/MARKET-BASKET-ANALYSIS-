{
  "nbformat": 4,
  "nbformat_minor": 0,
  "metadata": {
    "colab": {
      "provenance": [],
      "authorship_tag": "ABX9TyPv097Ci/y774a3BzqkOYq7",
      "include_colab_link": true
    },
    "kernelspec": {
      "name": "python3",
      "display_name": "Python 3"
    },
    "language_info": {
      "name": "python"
    }
  },
  "cells": [
    {
      "cell_type": "markdown",
      "metadata": {
        "id": "view-in-github",
        "colab_type": "text"
      },
      "source": [
        "<a href=\"https://colab.research.google.com/github/RISHIshrivas/MARKET-BASKET-ANALYSIS-/blob/main/Market_Basket_Analysis.ipynb\" target=\"_parent\"><img src=\"https://colab.research.google.com/assets/colab-badge.svg\" alt=\"Open In Colab\"/></a>"
      ]
    },
    {
      "cell_type": "markdown",
      "source": [
        "# MARKET BASKET ANALYSIS\n",
        "A data mining method called market basket analysis (MBA) was developed for the retail industry and is used to find patterns among products that are frequently bought together.\n",
        "The concepts of Market Basket Analysis can be extended to Natural Language Processing (NLP) in order to analyze trends in text data, even though they are often used in the context of retail transactions and consumer behavior.\n",
        "Within the field of NLP, Market Basket Analysis can be utilized to comprehend the recurring patterns of words, phrases, or concepts in a certain collection of texts or documents."
      ],
      "metadata": {
        "id": "Xn_fYzvdbvVD"
      }
    },
    {
      "cell_type": "code",
      "execution_count": null,
      "metadata": {
        "id": "Wb19vBky0QKM",
        "colab": {
          "base_uri": "https://localhost:8080/"
        },
        "outputId": "ba3743c2-887a-443a-ce21-9ab997814aee"
      },
      "outputs": [
        {
          "output_type": "stream",
          "name": "stdout",
          "text": [
            "Collecting apyori\n",
            "  Downloading apyori-1.1.2.tar.gz (8.6 kB)\n",
            "  Preparing metadata (setup.py) ... \u001b[?25l\u001b[?25hdone\n",
            "Building wheels for collected packages: apyori\n",
            "  Building wheel for apyori (setup.py) ... \u001b[?25l\u001b[?25hdone\n",
            "  Created wheel for apyori: filename=apyori-1.1.2-py3-none-any.whl size=5954 sha256=97d872a492e4713d8e3217cabafe1d406c5e8f75408b3857ce2d214c128adff7\n",
            "  Stored in directory: /root/.cache/pip/wheels/c4/1a/79/20f55c470a50bb3702a8cb7c94d8ada15573538c7f4baebe2d\n",
            "Successfully built apyori\n",
            "Installing collected packages: apyori\n",
            "Successfully installed apyori-1.1.2\n"
          ]
        }
      ],
      "source": [
        "pip install apyori"
      ]
    },
    {
      "cell_type": "markdown",
      "source": [
        "\n",
        "\n",
        "> One prominent technique used in market basket analysis is the Apriori technique, which is a well-known and often used Association Rule algorithm. Additionally, it is regarded as being more accurate than SETM and AIS algorithms. It finds common item sets in transactions and establishes the rules of association between these items. The Apriori Algorithm's frequent itemset generation is a drawback. Because it must repeatedly scan the database due to the enormous dataset, this computationally expensive phase increases time and decreases performance. The ideas of support and confidence are employed.\n",
        "\n",
        "\n",
        "\n",
        "\n"
      ],
      "metadata": {
        "id": "fUx1i7U3egkB"
      }
    },
    {
      "cell_type": "code",
      "source": [
        "import pandas as pd\n",
        "import numpy as np\n",
        "import seaborn as sns\n",
        "import matplotlib.pyplot as plt\n",
        "from mlxtend.preprocessing import TransactionEncoder\n",
        "from mlxtend.frequent_patterns import apriori, association_rules\n",
        "from pandas.plotting import parallel_coordinates\n",
        "import warnings\n",
        "warnings.filterwarnings('ignore')\n",
        "from apyori import apriori"
      ],
      "metadata": {
        "id": "vIppXe6uXSSF"
      },
      "execution_count": null,
      "outputs": []
    },
    {
      "cell_type": "code",
      "source": [
        "import os\n",
        "for dirname, _, filenames in os.walk('/kaggle/input'):\n",
        "    for filename in filenames:\n",
        "        print(os.path.join(dirname, filename))"
      ],
      "metadata": {
        "id": "HU5n8oxUX242"
      },
      "execution_count": null,
      "outputs": []
    },
    {
      "cell_type": "code",
      "source": [
        "Rishi = pd.read_csv(\"store_data.csv\",header=None)"
      ],
      "metadata": {
        "id": "sgWnm6_0a4ki"
      },
      "execution_count": null,
      "outputs": []
    },
    {
      "cell_type": "markdown",
      "source": [
        "It is necessary for us to obtain the list of items in each transaction when we have finished reading the dataset. We shall thus execute two loops. There will be two: one for the overall number of transactions and another for the total number of columns in each transaction. The list will serve as a training set from which the Association Rules list can be created."
      ],
      "metadata": {
        "id": "bwpcBtNUfUDZ"
      }
    },
    {
      "cell_type": "code",
      "source": [
        "print(Rishi)"
      ],
      "metadata": {
        "colab": {
          "base_uri": "https://localhost:8080/"
        },
        "id": "KHV-F4Xzd8u0",
        "outputId": "d698db2e-ad9a-4a6f-84c8-c9fe41ed8628"
      },
      "execution_count": null,
      "outputs": [
        {
          "output_type": "stream",
          "name": "stdout",
          "text": [
            "                 0                  1            2                 3   \\\n",
            "0            shrimp            almonds      avocado    vegetables mix   \n",
            "1           burgers          meatballs         eggs               NaN   \n",
            "2           chutney                NaN          NaN               NaN   \n",
            "3            turkey            avocado          NaN               NaN   \n",
            "4     mineral water               milk   energy bar  whole wheat rice   \n",
            "...             ...                ...          ...               ...   \n",
            "7496         butter         light mayo  fresh bread               NaN   \n",
            "7497        burgers  frozen vegetables         eggs      french fries   \n",
            "7498        chicken                NaN          NaN               NaN   \n",
            "7499       escalope          green tea          NaN               NaN   \n",
            "7500           eggs    frozen smoothie  yogurt cake    low fat yogurt   \n",
            "\n",
            "                4                 5     6               7             8   \\\n",
            "0     green grapes  whole weat flour  yams  cottage cheese  energy drink   \n",
            "1              NaN               NaN   NaN             NaN           NaN   \n",
            "2              NaN               NaN   NaN             NaN           NaN   \n",
            "3              NaN               NaN   NaN             NaN           NaN   \n",
            "4        green tea               NaN   NaN             NaN           NaN   \n",
            "...            ...               ...   ...             ...           ...   \n",
            "7496           NaN               NaN   NaN             NaN           NaN   \n",
            "7497     magazines         green tea   NaN             NaN           NaN   \n",
            "7498           NaN               NaN   NaN             NaN           NaN   \n",
            "7499           NaN               NaN   NaN             NaN           NaN   \n",
            "7500           NaN               NaN   NaN             NaN           NaN   \n",
            "\n",
            "                9               10         11     12     13             14  \\\n",
            "0     tomato juice  low fat yogurt  green tea  honey  salad  mineral water   \n",
            "1              NaN             NaN        NaN    NaN    NaN            NaN   \n",
            "2              NaN             NaN        NaN    NaN    NaN            NaN   \n",
            "3              NaN             NaN        NaN    NaN    NaN            NaN   \n",
            "4              NaN             NaN        NaN    NaN    NaN            NaN   \n",
            "...            ...             ...        ...    ...    ...            ...   \n",
            "7496           NaN             NaN        NaN    NaN    NaN            NaN   \n",
            "7497           NaN             NaN        NaN    NaN    NaN            NaN   \n",
            "7498           NaN             NaN        NaN    NaN    NaN            NaN   \n",
            "7499           NaN             NaN        NaN    NaN    NaN            NaN   \n",
            "7500           NaN             NaN        NaN    NaN    NaN            NaN   \n",
            "\n",
            "          15                 16               17       18         19  \n",
            "0     salmon  antioxydant juice  frozen smoothie  spinach  olive oil  \n",
            "1        NaN                NaN              NaN      NaN        NaN  \n",
            "2        NaN                NaN              NaN      NaN        NaN  \n",
            "3        NaN                NaN              NaN      NaN        NaN  \n",
            "4        NaN                NaN              NaN      NaN        NaN  \n",
            "...      ...                ...              ...      ...        ...  \n",
            "7496     NaN                NaN              NaN      NaN        NaN  \n",
            "7497     NaN                NaN              NaN      NaN        NaN  \n",
            "7498     NaN                NaN              NaN      NaN        NaN  \n",
            "7499     NaN                NaN              NaN      NaN        NaN  \n",
            "7500     NaN                NaN              NaN      NaN        NaN  \n",
            "\n",
            "[7501 rows x 20 columns]\n"
          ]
        }
      ]
    },
    {
      "cell_type": "markdown",
      "source": [
        "Now that we have the list of items in our training set, we can proceed by running the apriori algorithm, which will enable us to extract the list of association rules from the training set or list. 0.0045 is considered to be the minimum support and will be used in this case. 0.2 is the minimum confidence that we have maintained. Because there needs to be a minimum of two items found to be associated, the minimum lift value is taken to be 3, and the minimum length is taken to be 2."
      ],
      "metadata": {
        "id": "ygMjLeimft-W"
      }
    },
    {
      "cell_type": "code",
      "source": [
        "l=[]\n",
        "for i in range(1,7501):\n",
        "    l.append([str(Rishi.values[i,j]) for j in range(0,20)])"
      ],
      "metadata": {
        "id": "nKFjNVzkbUh8"
      },
      "execution_count": null,
      "outputs": []
    },
    {
      "cell_type": "markdown",
      "source": [
        "After running the above line of code, we generated the list of association rules between the items. So to see these rules, the below line of code needs to be run."
      ],
      "metadata": {
        "id": "n_cUZS3Ff3di"
      }
    },
    {
      "cell_type": "code",
      "source": [
        "#applying apriori algorithm\n",
        "association_rules = apriori(l, min_support=0.0045, min_confidence=0.2, min_lift=3, min_length=2)\n",
        "association_results = list(association_rules)"
      ],
      "metadata": {
        "id": "VSA_hm74bm6D"
      },
      "execution_count": null,
      "outputs": []
    },
    {
      "cell_type": "code",
      "source": [
        "for i in range(0, len(association_results)):\n",
        "  print(association_results[i][0])"
      ],
      "metadata": {
        "colab": {
          "base_uri": "https://localhost:8080/"
        },
        "id": "gE3ccuRSb4QD",
        "outputId": "fd8570f5-614a-40cd-e6f6-6f02ee52c5ae"
      },
      "execution_count": null,
      "outputs": [
        {
          "output_type": "stream",
          "name": "stdout",
          "text": [
            "frozenset({'light cream', 'chicken'})\n",
            "frozenset({'escalope', 'mushroom cream sauce'})\n",
            "frozenset({'escalope', 'pasta'})\n",
            "frozenset({'herb & pepper', 'ground beef'})\n",
            "frozenset({'ground beef', 'tomato sauce'})\n",
            "frozenset({'whole wheat pasta', 'olive oil'})\n",
            "frozenset({'pasta', 'shrimp'})\n",
            "frozenset({'nan', 'light cream', 'chicken'})\n",
            "frozenset({'chocolate', 'shrimp', 'frozen vegetables'})\n",
            "frozenset({'cooking oil', 'ground beef', 'spaghetti'})\n",
            "frozenset({'nan', 'escalope', 'mushroom cream sauce'})\n",
            "frozenset({'nan', 'escalope', 'pasta'})\n",
            "frozenset({'ground beef', 'frozen vegetables', 'spaghetti'})\n",
            "frozenset({'milk', 'olive oil', 'frozen vegetables'})\n",
            "frozenset({'mineral water', 'frozen vegetables', 'shrimp'})\n",
            "frozenset({'olive oil', 'frozen vegetables', 'spaghetti'})\n",
            "frozenset({'shrimp', 'frozen vegetables', 'spaghetti'})\n",
            "frozenset({'tomatoes', 'frozen vegetables', 'spaghetti'})\n",
            "frozenset({'grated cheese', 'ground beef', 'spaghetti'})\n",
            "frozenset({'herb & pepper', 'ground beef', 'mineral water'})\n",
            "frozenset({'nan', 'herb & pepper', 'ground beef'})\n",
            "frozenset({'herb & pepper', 'ground beef', 'spaghetti'})\n",
            "frozenset({'ground beef', 'milk', 'olive oil'})\n",
            "frozenset({'nan', 'ground beef', 'tomato sauce'})\n",
            "frozenset({'ground beef', 'shrimp', 'spaghetti'})\n",
            "frozenset({'milk', 'olive oil', 'spaghetti'})\n",
            "frozenset({'mineral water', 'soup', 'olive oil'})\n",
            "frozenset({'nan', 'whole wheat pasta', 'olive oil'})\n",
            "frozenset({'nan', 'pasta', 'shrimp'})\n",
            "frozenset({'pancakes', 'olive oil', 'spaghetti'})\n",
            "frozenset({'nan', 'chocolate', 'shrimp', 'frozen vegetables'})\n",
            "frozenset({'cooking oil', 'nan', 'ground beef', 'spaghetti'})\n",
            "frozenset({'nan', 'ground beef', 'frozen vegetables', 'spaghetti'})\n",
            "frozenset({'milk', 'mineral water', 'frozen vegetables', 'spaghetti'})\n",
            "frozenset({'nan', 'milk', 'olive oil', 'frozen vegetables'})\n",
            "frozenset({'nan', 'mineral water', 'frozen vegetables', 'shrimp'})\n",
            "frozenset({'nan', 'olive oil', 'frozen vegetables', 'spaghetti'})\n",
            "frozenset({'nan', 'shrimp', 'frozen vegetables', 'spaghetti'})\n",
            "frozenset({'tomatoes', 'nan', 'frozen vegetables', 'spaghetti'})\n",
            "frozenset({'nan', 'grated cheese', 'ground beef', 'spaghetti'})\n",
            "frozenset({'nan', 'herb & pepper', 'ground beef', 'mineral water'})\n",
            "frozenset({'nan', 'herb & pepper', 'ground beef', 'spaghetti'})\n",
            "frozenset({'nan', 'ground beef', 'milk', 'olive oil'})\n",
            "frozenset({'nan', 'ground beef', 'shrimp', 'spaghetti'})\n",
            "frozenset({'nan', 'milk', 'olive oil', 'spaghetti'})\n",
            "frozenset({'nan', 'mineral water', 'soup', 'olive oil'})\n",
            "frozenset({'pancakes', 'nan', 'olive oil', 'spaghetti'})\n",
            "frozenset({'nan', 'frozen vegetables', 'spaghetti', 'mineral water', 'milk'})\n"
          ]
        }
      ]
    },
    {
      "cell_type": "markdown",
      "source": [
        "Here we are going to display the Rule, Support, and lift ratio for every above association rule by using for loop."
      ],
      "metadata": {
        "id": "ws6v8-e8f_PK"
      }
    },
    {
      "cell_type": "code",
      "source": [
        "for item in association_results:\n",
        "    # first index of the inner list\n",
        "    # Contains base item and add item\n",
        "    pair = item[0]\n",
        "    items = [x for x in pair]\n",
        "    print(\"Rule: \" + items[0] + \" -> \" + items[1])\n",
        "    # second index of the inner list\n",
        "    print(\"Support: \" + str(item[1]))\n",
        "    # third index of the list located at 0th position\n",
        "    # of the third index of the inner list\n",
        "    print(\"Confidence: \" + str(item[2][0][2]))\n",
        "    print(\"Lift: \" + str(item[2][0][3]))\n",
        "    print(\"-----------------------------------------------------\")\n"
      ],
      "metadata": {
        "colab": {
          "base_uri": "https://localhost:8080/"
        },
        "id": "ig0u3Uxtb8aS",
        "outputId": "70b0f4df-67c2-4b59-9735-fc4b51a258d8"
      },
      "execution_count": null,
      "outputs": [
        {
          "output_type": "stream",
          "name": "stdout",
          "text": [
            "Rule: light cream -> chicken\n",
            "Support: 0.004533333333333334\n",
            "Confidence: 0.2905982905982906\n",
            "Lift: 4.843304843304844\n",
            "-----------------------------------------------------\n",
            "Rule: escalope -> mushroom cream sauce\n",
            "Support: 0.005733333333333333\n",
            "Confidence: 0.30069930069930073\n",
            "Lift: 3.7903273197390845\n",
            "-----------------------------------------------------\n",
            "Rule: escalope -> pasta\n",
            "Support: 0.005866666666666667\n",
            "Confidence: 0.37288135593220345\n",
            "Lift: 4.700185158809287\n",
            "-----------------------------------------------------\n",
            "Rule: herb & pepper -> ground beef\n",
            "Support: 0.016\n",
            "Confidence: 0.3234501347708895\n",
            "Lift: 3.2915549671393096\n",
            "-----------------------------------------------------\n",
            "Rule: ground beef -> tomato sauce\n",
            "Support: 0.005333333333333333\n",
            "Confidence: 0.37735849056603776\n",
            "Lift: 3.840147461662528\n",
            "-----------------------------------------------------\n",
            "Rule: whole wheat pasta -> olive oil\n",
            "Support: 0.008\n",
            "Confidence: 0.2714932126696833\n",
            "Lift: 4.130221288078346\n",
            "-----------------------------------------------------\n",
            "Rule: pasta -> shrimp\n",
            "Support: 0.005066666666666666\n",
            "Confidence: 0.3220338983050848\n",
            "Lift: 4.514493901473151\n",
            "-----------------------------------------------------\n",
            "Rule: nan -> light cream\n",
            "Support: 0.004533333333333334\n",
            "Confidence: 0.2905982905982906\n",
            "Lift: 4.843304843304844\n",
            "-----------------------------------------------------\n",
            "Rule: chocolate -> shrimp\n",
            "Support: 0.005333333333333333\n",
            "Confidence: 0.23255813953488372\n",
            "Lift: 3.260160834601174\n",
            "-----------------------------------------------------\n",
            "Rule: cooking oil -> ground beef\n",
            "Support: 0.0048\n",
            "Confidence: 0.5714285714285714\n",
            "Lift: 3.281557646029315\n",
            "-----------------------------------------------------\n",
            "Rule: nan -> escalope\n",
            "Support: 0.005733333333333333\n",
            "Confidence: 0.30069930069930073\n",
            "Lift: 3.7903273197390845\n",
            "-----------------------------------------------------\n",
            "Rule: nan -> escalope\n",
            "Support: 0.005866666666666667\n",
            "Confidence: 0.37288135593220345\n",
            "Lift: 4.700185158809287\n",
            "-----------------------------------------------------\n",
            "Rule: ground beef -> frozen vegetables\n",
            "Support: 0.008666666666666666\n",
            "Confidence: 0.3110047846889952\n",
            "Lift: 3.164906221394116\n",
            "-----------------------------------------------------\n",
            "Rule: milk -> olive oil\n",
            "Support: 0.0048\n",
            "Confidence: 0.20338983050847456\n",
            "Lift: 3.094165778526489\n",
            "-----------------------------------------------------\n",
            "Rule: mineral water -> frozen vegetables\n",
            "Support: 0.0072\n",
            "Confidence: 0.3068181818181818\n",
            "Lift: 3.2183725365543547\n",
            "-----------------------------------------------------\n",
            "Rule: olive oil -> frozen vegetables\n",
            "Support: 0.005733333333333333\n",
            "Confidence: 0.20574162679425836\n",
            "Lift: 3.1299436124887174\n",
            "-----------------------------------------------------\n",
            "Rule: shrimp -> frozen vegetables\n",
            "Support: 0.006\n",
            "Confidence: 0.21531100478468898\n",
            "Lift: 3.0183785717479763\n",
            "-----------------------------------------------------\n",
            "Rule: tomatoes -> frozen vegetables\n",
            "Support: 0.006666666666666667\n",
            "Confidence: 0.23923444976076555\n",
            "Lift: 3.497579674864993\n",
            "-----------------------------------------------------\n",
            "Rule: grated cheese -> ground beef\n",
            "Support: 0.005333333333333333\n",
            "Confidence: 0.3225806451612903\n",
            "Lift: 3.282706701098612\n",
            "-----------------------------------------------------\n",
            "Rule: herb & pepper -> ground beef\n",
            "Support: 0.006666666666666667\n",
            "Confidence: 0.390625\n",
            "Lift: 3.975152645861601\n",
            "-----------------------------------------------------\n",
            "Rule: nan -> herb & pepper\n",
            "Support: 0.016\n",
            "Confidence: 0.3234501347708895\n",
            "Lift: 3.2915549671393096\n",
            "-----------------------------------------------------\n",
            "Rule: herb & pepper -> ground beef\n",
            "Support: 0.0064\n",
            "Confidence: 0.3934426229508197\n",
            "Lift: 4.003825878061259\n",
            "-----------------------------------------------------\n",
            "Rule: ground beef -> milk\n",
            "Support: 0.004933333333333333\n",
            "Confidence: 0.22424242424242424\n",
            "Lift: 3.411395906324912\n",
            "-----------------------------------------------------\n",
            "Rule: nan -> ground beef\n",
            "Support: 0.005333333333333333\n",
            "Confidence: 0.37735849056603776\n",
            "Lift: 3.840147461662528\n",
            "-----------------------------------------------------\n",
            "Rule: ground beef -> shrimp\n",
            "Support: 0.006\n",
            "Confidence: 0.5232558139534884\n",
            "Lift: 3.004914704939635\n",
            "-----------------------------------------------------\n",
            "Rule: milk -> olive oil\n",
            "Support: 0.0072\n",
            "Confidence: 0.20300751879699247\n",
            "Lift: 3.0883496774390333\n",
            "-----------------------------------------------------\n",
            "Rule: mineral water -> soup\n",
            "Support: 0.0052\n",
            "Confidence: 0.2254335260115607\n",
            "Lift: 3.4295161157945335\n",
            "-----------------------------------------------------\n",
            "Rule: nan -> whole wheat pasta\n",
            "Support: 0.008\n",
            "Confidence: 0.2714932126696833\n",
            "Lift: 4.130221288078346\n",
            "-----------------------------------------------------\n",
            "Rule: nan -> pasta\n",
            "Support: 0.005066666666666666\n",
            "Confidence: 0.3220338983050848\n",
            "Lift: 4.514493901473151\n",
            "-----------------------------------------------------\n",
            "Rule: pancakes -> olive oil\n",
            "Support: 0.005066666666666666\n",
            "Confidence: 0.20105820105820105\n",
            "Lift: 3.0586947422647217\n",
            "-----------------------------------------------------\n",
            "Rule: nan -> chocolate\n",
            "Support: 0.005333333333333333\n",
            "Confidence: 0.23255813953488372\n",
            "Lift: 3.260160834601174\n",
            "-----------------------------------------------------\n",
            "Rule: cooking oil -> nan\n",
            "Support: 0.0048\n",
            "Confidence: 0.5714285714285714\n",
            "Lift: 3.281557646029315\n",
            "-----------------------------------------------------\n",
            "Rule: nan -> ground beef\n",
            "Support: 0.008666666666666666\n",
            "Confidence: 0.3110047846889952\n",
            "Lift: 3.164906221394116\n",
            "-----------------------------------------------------\n",
            "Rule: milk -> mineral water\n",
            "Support: 0.004533333333333334\n",
            "Confidence: 0.28813559322033905\n",
            "Lift: 3.0224013274860737\n",
            "-----------------------------------------------------\n",
            "Rule: nan -> milk\n",
            "Support: 0.0048\n",
            "Confidence: 0.20338983050847456\n",
            "Lift: 3.094165778526489\n",
            "-----------------------------------------------------\n",
            "Rule: nan -> mineral water\n",
            "Support: 0.0072\n",
            "Confidence: 0.3068181818181818\n",
            "Lift: 3.2183725365543547\n",
            "-----------------------------------------------------\n",
            "Rule: nan -> olive oil\n",
            "Support: 0.005733333333333333\n",
            "Confidence: 0.20574162679425836\n",
            "Lift: 3.1299436124887174\n",
            "-----------------------------------------------------\n",
            "Rule: nan -> shrimp\n",
            "Support: 0.006\n",
            "Confidence: 0.21531100478468898\n",
            "Lift: 3.0183785717479763\n",
            "-----------------------------------------------------\n",
            "Rule: tomatoes -> nan\n",
            "Support: 0.006666666666666667\n",
            "Confidence: 0.23923444976076555\n",
            "Lift: 3.497579674864993\n",
            "-----------------------------------------------------\n",
            "Rule: nan -> grated cheese\n",
            "Support: 0.005333333333333333\n",
            "Confidence: 0.3225806451612903\n",
            "Lift: 3.282706701098612\n",
            "-----------------------------------------------------\n",
            "Rule: nan -> herb & pepper\n",
            "Support: 0.006666666666666667\n",
            "Confidence: 0.390625\n",
            "Lift: 3.975152645861601\n",
            "-----------------------------------------------------\n",
            "Rule: nan -> herb & pepper\n",
            "Support: 0.0064\n",
            "Confidence: 0.3934426229508197\n",
            "Lift: 4.003825878061259\n",
            "-----------------------------------------------------\n",
            "Rule: nan -> ground beef\n",
            "Support: 0.004933333333333333\n",
            "Confidence: 0.22424242424242424\n",
            "Lift: 3.411395906324912\n",
            "-----------------------------------------------------\n",
            "Rule: nan -> ground beef\n",
            "Support: 0.006\n",
            "Confidence: 0.5232558139534884\n",
            "Lift: 3.004914704939635\n",
            "-----------------------------------------------------\n",
            "Rule: nan -> milk\n",
            "Support: 0.0072\n",
            "Confidence: 0.20300751879699247\n",
            "Lift: 3.0883496774390333\n",
            "-----------------------------------------------------\n",
            "Rule: nan -> mineral water\n",
            "Support: 0.0052\n",
            "Confidence: 0.2254335260115607\n",
            "Lift: 3.4295161157945335\n",
            "-----------------------------------------------------\n",
            "Rule: pancakes -> nan\n",
            "Support: 0.005066666666666666\n",
            "Confidence: 0.20105820105820105\n",
            "Lift: 3.0586947422647217\n",
            "-----------------------------------------------------\n",
            "Rule: nan -> frozen vegetables\n",
            "Support: 0.004533333333333334\n",
            "Confidence: 0.28813559322033905\n",
            "Lift: 3.0224013274860737\n",
            "-----------------------------------------------------\n"
          ]
        }
      ]
    }
  ]
}